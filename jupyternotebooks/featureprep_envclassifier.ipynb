{
 "cells": [
  {
   "cell_type": "code",
   "execution_count": 1,
   "metadata": {},
   "outputs": [],
   "source": [
    "%matplotlib inline"
   ]
  },
  {
   "cell_type": "markdown",
   "metadata": {},
   "source": [
    "\n",
    "# Feature Extraction for Classification\n",
    "\n",
    "\n",
    "This notebook offers an example for how you can use PySoundTool to extract\n",
    "acoustic features to train an environment or speech classifier.\n",
    "\n"
   ]
  },
  {
   "cell_type": "markdown",
   "metadata": {},
   "source": [
    "Ignore this snippet of code: it is only for this example\n",
    "\n"
   ]
  },
  {
   "cell_type": "code",
   "execution_count": 2,
   "metadata": {},
   "outputs": [],
   "source": [
    "import os\n",
    "os.chdir('../')"
   ]
  },
  {
   "cell_type": "markdown",
   "metadata": {},
   "source": [
    "Let's import pysoundtool, assuming it is in your working directory:\n",
    "\n"
   ]
  },
  {
   "cell_type": "code",
   "execution_count": 3,
   "metadata": {
    "collapsed": true
   },
   "outputs": [
    {
     "name": "stderr",
     "output_type": "stream",
     "text": [
      "/home/airos/Projects/github/a-n-rose/Python-Sound-Tool/env/lib/python3.6/site-packages/librosa/util/decorators.py:9: NumbaDeprecationWarning: An import was requested from a module that has moved location.\n",
      "Import of 'jit' requested from: 'numba.decorators', please update to use 'numba.core.decorators' or pin to Numba version 0.48.0. This alias will not be present in Numba version 0.50.0.\n",
      "  from numba.decorators import jit as optional_jit\n",
      "Using TensorFlow backend.\n",
      "/home/airos/Projects/github/a-n-rose/Python-Sound-Tool/env/lib/python3.6/site-packages/tensorflow/python/framework/dtypes.py:516: FutureWarning: Passing (type, 1) or '1type' as a synonym of type is deprecated; in a future version of numpy, it will be understood as (type, (1,)) / '(1,)type'.\n",
      "  _np_qint8 = np.dtype([(\"qint8\", np.int8, 1)])\n",
      "/home/airos/Projects/github/a-n-rose/Python-Sound-Tool/env/lib/python3.6/site-packages/tensorflow/python/framework/dtypes.py:517: FutureWarning: Passing (type, 1) or '1type' as a synonym of type is deprecated; in a future version of numpy, it will be understood as (type, (1,)) / '(1,)type'.\n",
      "  _np_quint8 = np.dtype([(\"quint8\", np.uint8, 1)])\n",
      "/home/airos/Projects/github/a-n-rose/Python-Sound-Tool/env/lib/python3.6/site-packages/tensorflow/python/framework/dtypes.py:518: FutureWarning: Passing (type, 1) or '1type' as a synonym of type is deprecated; in a future version of numpy, it will be understood as (type, (1,)) / '(1,)type'.\n",
      "  _np_qint16 = np.dtype([(\"qint16\", np.int16, 1)])\n",
      "/home/airos/Projects/github/a-n-rose/Python-Sound-Tool/env/lib/python3.6/site-packages/tensorflow/python/framework/dtypes.py:519: FutureWarning: Passing (type, 1) or '1type' as a synonym of type is deprecated; in a future version of numpy, it will be understood as (type, (1,)) / '(1,)type'.\n",
      "  _np_quint16 = np.dtype([(\"quint16\", np.uint16, 1)])\n",
      "/home/airos/Projects/github/a-n-rose/Python-Sound-Tool/env/lib/python3.6/site-packages/tensorflow/python/framework/dtypes.py:520: FutureWarning: Passing (type, 1) or '1type' as a synonym of type is deprecated; in a future version of numpy, it will be understood as (type, (1,)) / '(1,)type'.\n",
      "  _np_qint32 = np.dtype([(\"qint32\", np.int32, 1)])\n",
      "/home/airos/Projects/github/a-n-rose/Python-Sound-Tool/env/lib/python3.6/site-packages/tensorflow/python/framework/dtypes.py:525: FutureWarning: Passing (type, 1) or '1type' as a synonym of type is deprecated; in a future version of numpy, it will be understood as (type, (1,)) / '(1,)type'.\n",
      "  np_resource = np.dtype([(\"resource\", np.ubyte, 1)])\n",
      "/home/airos/Projects/github/a-n-rose/Python-Sound-Tool/env/lib/python3.6/site-packages/tensorboard/compat/tensorflow_stub/dtypes.py:541: FutureWarning: Passing (type, 1) or '1type' as a synonym of type is deprecated; in a future version of numpy, it will be understood as (type, (1,)) / '(1,)type'.\n",
      "  _np_qint8 = np.dtype([(\"qint8\", np.int8, 1)])\n",
      "/home/airos/Projects/github/a-n-rose/Python-Sound-Tool/env/lib/python3.6/site-packages/tensorboard/compat/tensorflow_stub/dtypes.py:542: FutureWarning: Passing (type, 1) or '1type' as a synonym of type is deprecated; in a future version of numpy, it will be understood as (type, (1,)) / '(1,)type'.\n",
      "  _np_quint8 = np.dtype([(\"quint8\", np.uint8, 1)])\n",
      "/home/airos/Projects/github/a-n-rose/Python-Sound-Tool/env/lib/python3.6/site-packages/tensorboard/compat/tensorflow_stub/dtypes.py:543: FutureWarning: Passing (type, 1) or '1type' as a synonym of type is deprecated; in a future version of numpy, it will be understood as (type, (1,)) / '(1,)type'.\n",
      "  _np_qint16 = np.dtype([(\"qint16\", np.int16, 1)])\n",
      "/home/airos/Projects/github/a-n-rose/Python-Sound-Tool/env/lib/python3.6/site-packages/tensorboard/compat/tensorflow_stub/dtypes.py:544: FutureWarning: Passing (type, 1) or '1type' as a synonym of type is deprecated; in a future version of numpy, it will be understood as (type, (1,)) / '(1,)type'.\n",
      "  _np_quint16 = np.dtype([(\"quint16\", np.uint16, 1)])\n",
      "/home/airos/Projects/github/a-n-rose/Python-Sound-Tool/env/lib/python3.6/site-packages/tensorboard/compat/tensorflow_stub/dtypes.py:545: FutureWarning: Passing (type, 1) or '1type' as a synonym of type is deprecated; in a future version of numpy, it will be understood as (type, (1,)) / '(1,)type'.\n",
      "  _np_qint32 = np.dtype([(\"qint32\", np.int32, 1)])\n",
      "/home/airos/Projects/github/a-n-rose/Python-Sound-Tool/env/lib/python3.6/site-packages/tensorboard/compat/tensorflow_stub/dtypes.py:550: FutureWarning: Passing (type, 1) or '1type' as a synonym of type is deprecated; in a future version of numpy, it will be understood as (type, (1,)) / '(1,)type'.\n",
      "  np_resource = np.dtype([(\"resource\", np.ubyte, 1)])\n"
     ]
    }
   ],
   "source": [
    "import pysoundtool as pyst"
   ]
  },
  {
   "cell_type": "markdown",
   "metadata": {},
   "source": [
    "# Where is your training data\n",
    "\n",
    "PySoundTool offers example datasets. Let's use one.\n",
    "\n"
   ]
  },
  {
   "cell_type": "code",
   "execution_count": 33,
   "metadata": {},
   "outputs": [],
   "source": [
    "# Example data:\n",
    "data_dir = './audiodata/minidatasets/background_noise/'\n",
    "\n",
    "# There is also a small speech dataset you can try instead:\n",
    "#data_dir = './audiodata/minidatasets/speech_commands/'"
   ]
  },
  {
   "cell_type": "markdown",
   "metadata": {},
   "source": [
    "## Which type of feature:\n",
    "\n",
    "We can also extract 'fbank', 'powspec', and 'stft'\n",
    "\n",
    "if you are working with speech, I suggest 'fbank', 'powspec', or 'stft'."
   ]
  },
  {
   "cell_type": "code",
   "execution_count": 34,
   "metadata": {},
   "outputs": [],
   "source": [
    "feature_type = 'mfcc'"
   ]
  },
  {
   "cell_type": "markdown",
   "metadata": {},
   "source": [
    "how much audio in seconds used from each audio file:\n",
    "\n"
   ]
  },
  {
   "cell_type": "code",
   "execution_count": 8,
   "metadata": {},
   "outputs": [],
   "source": [
    "# The example noise and speech files are only 1 second long\n",
    "dur_sec = 1"
   ]
  },
  {
   "cell_type": "markdown",
   "metadata": {},
   "source": [
    "# Option 1: Automatic Dataset and Feature Extraction\n",
    "\n",
    "PySoundTool can do all of the work for you"
   ]
  },
  {
   "cell_type": "code",
   "execution_count": 35,
   "metadata": {},
   "outputs": [
    {
     "name": "stdout",
     "output_type": "stream",
     "text": [
      "100% through train fbank feature extraction\n",
      "Features saved at audiodata/example_feats_models/envclassifier/features_fbank_6m22d2h5m50s82ms/train_data_fbank.npy\n",
      "\n",
      "100% through val fbank feature extraction\n",
      "Features saved at audiodata/example_feats_models/envclassifier/features_fbank_6m22d2h5m50s82ms/val_data_fbank.npy\n",
      "\n",
      "100% through test fbank feature extraction\n",
      "Features saved at audiodata/example_feats_models/envclassifier/features_fbank_6m22d2h5m50s82ms/test_data_fbank.npy\n",
      "\n",
      "\n",
      "Finished! Total duration: 3.6 seconds.\n"
     ]
    },
    {
     "data": {
      "image/png": "[encoded data removed]",
      "text/plain": [
       "<Figure size 432x288 with 2 Axes>"
      ]
     },
     "metadata": {
      "needs_background": "light"
     },
     "output_type": "display_data"
    }
   ],
   "source": [
    "extraction_dir = pyst.envclassifier_feats(data_dir, feature_type=feature_type, dur_sec=dur_sec,\n",
    "                                         visualize=True, vis_every_n_frames = 50)"
   ]
  },
  {
   "cell_type": "code",
   "execution_count": 36,
   "metadata": {},
   "outputs": [
    {
     "name": "stdout",
     "output_type": "stream",
     "text": [
      "audiodata/example_feats_models/envclassifier/features_fbank_6m22d2h5m50s82ms\n"
     ]
    }
   ],
   "source": [
    "print(extraction_dir)"
   ]
  },
  {
   "cell_type": "markdown",
   "metadata": {},
   "source": [
    "# Option 2: You can do it a bit more manually\n",
    "\n",
    "## Prepare for Extraction: Data Organization"
   ]
  },
  {
   "cell_type": "markdown",
   "metadata": {},
   "source": [
    "Where to save extracted features:\n",
    "\n"
   ]
  },
  {
   "cell_type": "code",
   "execution_count": 6,
   "metadata": {},
   "outputs": [],
   "source": [
    "data_features_dir = './audiodata/example_feats_models/classifier/'"
   ]
  },
  {
   "cell_type": "markdown",
   "metadata": {},
   "source": [
    "create unique directory for feature extraction session:\n",
    "\n"
   ]
  },
  {
   "cell_type": "code",
   "execution_count": 9,
   "metadata": {},
   "outputs": [],
   "source": [
    "feat_extraction_dir = 'features_'+feature_type + '_' + pyst.utils.get_date()"
   ]
  },
  {
   "cell_type": "markdown",
   "metadata": {},
   "source": [
    "Ensure data directories exist \n",
    "and turn into pathlib.PosixPath object:\n",
    "\n"
   ]
  },
  {
   "cell_type": "code",
   "execution_count": 10,
   "metadata": {},
   "outputs": [],
   "source": [
    "data_dir = pyst.utils.check_dir(data_dir, make=False)"
   ]
  },
  {
   "cell_type": "markdown",
   "metadata": {},
   "source": [
    "collect labels associated with the audio data\n",
    "\n"
   ]
  },
  {
   "cell_type": "code",
   "execution_count": 11,
   "metadata": {},
   "outputs": [
    {
     "name": "stdout",
     "output_type": "stream",
     "text": [
      "{'train', 'street', 'cafe'}\n"
     ]
    }
   ],
   "source": [
    "# the labels are expected to be the titles of subfolders\n",
    "labels = []\n",
    "for label in data_dir.glob('*/'):\n",
    "    labels.append(label.stem)\n",
    "labels = set(labels)\n",
    "print(labels)"
   ]
  },
  {
   "cell_type": "markdown",
   "metadata": {},
   "source": [
    "create directory for what we need to save:\n",
    "\n"
   ]
  },
  {
   "cell_type": "code",
   "execution_count": 12,
   "metadata": {},
   "outputs": [],
   "source": [
    "data_features_dir = pyst.utils.check_dir(data_features_dir, make=True)\n",
    "feat_extraction_dir = data_features_dir.joinpath(feat_extraction_dir)\n",
    "feat_extraction_dir = pyst.utils.check_dir(feat_extraction_dir, make=True)"
   ]
  },
  {
   "cell_type": "markdown",
   "metadata": {},
   "source": [
    "dictionaries containing encoding and decoding labels:\n",
    "\n"
   ]
  },
  {
   "cell_type": "code",
   "execution_count": 13,
   "metadata": {},
   "outputs": [],
   "source": [
    "dict_encode_path = feat_extraction_dir.joinpath('dict_encode.csv')\n",
    "dict_decode_path = feat_extraction_dir.joinpath('dict_decode.csv')\n",
    "# dictionary for which audio paths are assigned to which labels:\n",
    "dict_encdodedlabel2audio_path = feat_extraction_dir.joinpath('dict_encdodedlabel2audio.csv')"
   ]
  },
  {
   "cell_type": "markdown",
   "metadata": {},
   "source": [
    "designate where to save train, val, and test data\n",
    "\n"
   ]
  },
  {
   "cell_type": "code",
   "execution_count": 14,
   "metadata": {},
   "outputs": [],
   "source": [
    "data_train_path = feat_extraction_dir.joinpath('{}_data_{}.npy'.format('train',\n",
    "                                                                    feature_type))\n",
    "data_val_path = feat_extraction_dir.joinpath('{}_data_{}.npy'.format('val',\n",
    "                                                                    feature_type))\n",
    "data_test_path = feat_extraction_dir.joinpath('{}_data_{}.npy'.format('test',\n",
    "                                                                    feature_type))"
   ]
  },
  {
   "cell_type": "markdown",
   "metadata": {},
   "source": [
    "create and save encoding/decoding labels dicts\n",
    "\n"
   ]
  },
  {
   "cell_type": "code",
   "execution_count": 15,
   "metadata": {},
   "outputs": [],
   "source": [
    "dict_encode, dict_decode = pyst.data.create_dicts_labelsencoded(labels)\n",
    "dict_encode_path = pyst.utils.save_dict(dict_encode, \n",
    "                                    filename = dict_encode_path,\n",
    "                                    overwrite=False)\n",
    "dict_decode_path = pyst.utils.save_dict(dict_encode, \n",
    "                                    filename = dict_decode_path,\n",
    "                                    overwrite=False)"
   ]
  },
  {
   "cell_type": "markdown",
   "metadata": {},
   "source": [
    "save audio paths to each label in dict \n",
    "\n"
   ]
  },
  {
   "cell_type": "code",
   "execution_count": 16,
   "metadata": {},
   "outputs": [
    {
     "name": "stderr",
     "output_type": "stream",
     "text": [
      "/home/airos/Projects/github/a-n-rose/Python-Sound-Tool/pysoundtool/data.py:400: UserWarning: Some files did not match those acceptable by this program. (i.e. non-audio files) The number of files removed: 3\n",
      "  warnings.warn(message)\n"
     ]
    }
   ],
   "source": [
    "paths_list = pyst.utils.collect_audiofiles(data_dir, recursive=True)\n",
    "paths_list = sorted(paths_list)\n",
    "\n",
    "dict_encodedlabel2audio = pyst.data.create_encodedlabel2audio_dict(dict_encode,\n",
    "                                                    paths_list)\n",
    "dict_encdodedlabel2audio_path = pyst.utils.save_dict(dict_encodedlabel2audio, \n",
    "                                        filename = dict_encdodedlabel2audio_path, overwrite=False)"
   ]
  },
  {
   "cell_type": "markdown",
   "metadata": {},
   "source": [
    "assign audiofiles into train, validation, and test datasets\n",
    "\n"
   ]
  },
  {
   "cell_type": "code",
   "execution_count": 17,
   "metadata": {},
   "outputs": [],
   "source": [
    "train, val, test = pyst.data.audio2datasets(dict_encdodedlabel2audio_path,\n",
    "                                            perc_train=0.8,\n",
    "                                            limit=None,\n",
    "                                            seed=40)"
   ]
  },
  {
   "cell_type": "markdown",
   "metadata": {},
   "source": [
    "save audiofiles for each dataset to dict and save\n",
    "\n"
   ]
  },
  {
   "cell_type": "code",
   "execution_count": 18,
   "metadata": {},
   "outputs": [],
   "source": [
    "dataset_dict = dict([('train',train),('val', val),('test',test)])\n",
    "dataset_dict_path = feat_extraction_dir.joinpath('dataset_audiofiles.csv')\n",
    "dataset_dict_path = pyst.utils.save_dict(dataset_dict, dataset_dict_path, \n",
    "                                        overwrite=True)"
   ]
  },
  {
   "cell_type": "markdown",
   "metadata": {},
   "source": [
    "save paths to where extracted features of each dataset will be saved to dict w same keys\n",
    "\n"
   ]
  },
  {
   "cell_type": "code",
   "execution_count": 19,
   "metadata": {},
   "outputs": [],
   "source": [
    "datasets_path2save_dict = dict([('train',data_train_path),\n",
    "                                ('val', data_val_path),\n",
    "                                ('test',data_test_path)])"
   ]
  },
  {
   "cell_type": "markdown",
   "metadata": {},
   "source": [
    "# Visualize Audio Samples and Features"
   ]
  },
  {
   "cell_type": "markdown",
   "metadata": {},
   "source": [
    "for fun, let's visualize the audio:\n",
    "\n"
   ]
  },
  {
   "cell_type": "markdown",
   "metadata": {},
   "source": [
    "first audio sample in its raw signal\n",
    "\n"
   ]
  },
  {
   "cell_type": "code",
   "execution_count": 20,
   "metadata": {},
   "outputs": [
    {
     "data": {
      "image/png": "[encoded data removed]",
      "text/plain": [
       "<Figure size 432x288 with 1 Axes>"
      ]
     },
     "metadata": {
      "needs_background": "light"
     },
     "output_type": "display_data"
    }
   ],
   "source": [
    "pyst.plotsound(paths_list[0], feature_type='signal', \n",
    "               title=paths_list[0].parent.stem+': signal')"
   ]
  },
  {
   "cell_type": "markdown",
   "metadata": {},
   "source": [
    "visualize the features that will be extracted\n",
    "\n"
   ]
  },
  {
   "cell_type": "markdown",
   "metadata": {},
   "source": [
    "first audio sample\n",
    "\n"
   ]
  },
  {
   "cell_type": "code",
   "execution_count": 21,
   "metadata": {},
   "outputs": [
    {
     "data": {
      "image/png": "[encoded data removed]",
      "text/plain": [
       "<Figure size 432x288 with 2 Axes>"
      ]
     },
     "metadata": {
      "needs_background": "light"
     },
     "output_type": "display_data"
    }
   ],
   "source": [
    "pyst.plotsound(paths_list[0], feature_type=feature_type, power_scale='power_to_db',\n",
    "               title = paths_list[0].parent.stem+': '+feature_type)"
   ]
  },
  {
   "cell_type": "markdown",
   "metadata": {},
   "source": [
    "# Extract and Save Features"
   ]
  },
  {
   "cell_type": "code",
   "execution_count": 22,
   "metadata": {},
   "outputs": [],
   "source": [
    "import time\n",
    "start = time.time()"
   ]
  },
  {
   "cell_type": "markdown",
   "metadata": {},
   "source": [
    "exctract features:\n",
    "\n"
   ]
  },
  {
   "cell_type": "code",
   "execution_count": 23,
   "metadata": {},
   "outputs": [
    {
     "name": "stdout",
     "output_type": "stream",
     "text": [
      "100% through train mfcc feature extraction\n",
      "Features saved at audiodata/example_feats_models/classifier/features_mfcc_6m22d1h42m24s471ms/train_data_mfcc.npy\n",
      "\n",
      "100% through val mfcc feature extraction\n",
      "Features saved at audiodata/example_feats_models/classifier/features_mfcc_6m22d1h42m24s471ms/val_data_mfcc.npy\n",
      "\n",
      "100% through test mfcc feature extraction\n",
      "Features saved at audiodata/example_feats_models/classifier/features_mfcc_6m22d1h42m24s471ms/test_data_mfcc.npy\n",
      "\n",
      "\n",
      "Finished! Total duration: 6.68 seconds.\n",
      "\n",
      "Features can be found here:\n",
      "audiodata/example_feats_models/classifier/features_mfcc_6m22d1h42m24s471ms\n"
     ]
    },
    {
     "data": {
      "image/png": "[encoded data removed]",
      "text/plain": [
       "<Figure size 432x288 with 2 Axes>"
      ]
     },
     "metadata": {
      "needs_background": "light"
     },
     "output_type": "display_data"
    }
   ],
   "source": [
    "dataset_dict, datasets_path2save_dict = pyst.feats.save_features_datasets(\n",
    "    datasets_dict = dataset_dict,\n",
    "    datasets_path2save_dict = datasets_path2save_dict,\n",
    "    labeled_data = True,\n",
    "    feature_type = feature_type,\n",
    "    dur_sec = dur_sec,\n",
    "    win_size_ms = 20,\n",
    "    visualize=True, # saves plots of features\n",
    "    vis_every_n_frames=200) # limits how often plots are generated\n",
    "\n",
    "end = time.time()\n",
    "\n",
    "total_dur_sec = round(end-start,2)\n",
    "total_dur, units = pyst.utils.adjust_time_units(total_dur_sec)\n",
    "print('\\nFinished! Total duration: {} {}.'.format(total_dur, units))\n",
    "print('\\nFeatures can be found here:')\n",
    "print(feat_extraction_dir)"
   ]
  },
  {
   "cell_type": "markdown",
   "metadata": {},
   "source": [
    "Have a look in `feat_extraction_dir` and there will be your features.\n",
    "\n"
   ]
  },
  {
   "cell_type": "markdown",
   "metadata": {},
   "source": [
    "# Large Datasets\n",
    "\n",
    "If you have very large amounts of audio you would like to process, you can \n",
    "divide the datasets into smaller sections:\n",
    "\n"
   ]
  },
  {
   "cell_type": "code",
   "execution_count": 24,
   "metadata": {},
   "outputs": [
    {
     "name": "stdout",
     "output_type": "stream",
     "text": [
      "100% through train__1 mfcc feature extraction\n",
      "Features saved at audiodata/example_feats_models/classifier/features_mfcc_6m22d1h42m24s471ms/train_data_mfcc__1.npy\n",
      "\n",
      "100% through train__2 mfcc feature extraction\n",
      "Features saved at audiodata/example_feats_models/classifier/features_mfcc_6m22d1h42m24s471ms/train_data_mfcc__2.npy\n",
      "\n",
      "100% through train__3 mfcc feature extraction\n",
      "Features saved at audiodata/example_feats_models/classifier/features_mfcc_6m22d1h42m24s471ms/train_data_mfcc__3.npy\n",
      "\n",
      "100% through train__4 mfcc feature extraction\n",
      "Features saved at audiodata/example_feats_models/classifier/features_mfcc_6m22d1h42m24s471ms/train_data_mfcc__4.npy\n",
      "\n",
      "100% through train__5 mfcc feature extraction\n",
      "Features saved at audiodata/example_feats_models/classifier/features_mfcc_6m22d1h42m24s471ms/train_data_mfcc__5.npy\n",
      "\n",
      "100% through train__6 mfcc feature extraction\n",
      "Features saved at audiodata/example_feats_models/classifier/features_mfcc_6m22d1h42m24s471ms/train_data_mfcc__6.npy\n",
      "\n",
      "100% through train__7 mfcc feature extraction\n",
      "Features saved at audiodata/example_feats_models/classifier/features_mfcc_6m22d1h42m24s471ms/train_data_mfcc__7.npy\n",
      "\n",
      "100% through train__8 mfcc feature extraction\n",
      "Features saved at audiodata/example_feats_models/classifier/features_mfcc_6m22d1h42m24s471ms/train_data_mfcc__8.npy\n",
      "\n",
      "100% through train__9 mfcc feature extraction\n",
      "Features saved at audiodata/example_feats_models/classifier/features_mfcc_6m22d1h42m24s471ms/train_data_mfcc__9.npy\n",
      "\n",
      "100% through train__10 mfcc feature extraction\n",
      "Features saved at audiodata/example_feats_models/classifier/features_mfcc_6m22d1h42m24s471ms/train_data_mfcc__10.npy\n",
      "\n",
      "100% through val mfcc feature extraction\n",
      "Features saved at audiodata/example_feats_models/classifier/features_mfcc_6m22d1h42m24s471ms/val_data_mfcc.npy\n",
      "\n",
      "100% through test mfcc feature extraction\n",
      "Features saved at audiodata/example_feats_models/classifier/features_mfcc_6m22d1h42m24s471ms/test_data_mfcc.npy\n",
      "\n"
     ]
    }
   ],
   "source": [
    "dataset_dict, datasets_path2save_dict = pyst.feats.save_features_datasets(\n",
    "    datasets_dict = dataset_dict,\n",
    "    datasets_path2save_dict = datasets_path2save_dict,\n",
    "    labeled_data = True,\n",
    "    feature_type = feature_type,\n",
    "    dur_sec = dur_sec,\n",
    "    win_size_ms = 20,\n",
    "    subsection_data = True, # if you want to subsection at least largest dataset\n",
    "    divide_factor = 10) # how many times you want the data to be sectioned."
   ]
  }
 ],
 "metadata": {
  "kernelspec": {
   "display_name": "Python 3",
   "language": "python",
   "name": "python3"
  },
  "language_info": {
   "codemirror_mode": {
    "name": "ipython",
    "version": 3
   },
   "file_extension": ".py",
   "mimetype": "text/x-python",
   "name": "python",
   "nbconvert_exporter": "python",
   "pygments_lexer": "ipython3",
   "version": "3.6.9"
  }
 },
 "nbformat": 4,
 "nbformat_minor": 1
}

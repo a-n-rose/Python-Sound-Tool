{
 "cells": [
  {
   "cell_type": "code",
   "execution_count": 1,
   "metadata": {},
   "outputs": [],
   "source": [
    "%matplotlib inline"
   ]
  },
  {
   "cell_type": "markdown",
   "metadata": {},
   "source": [
    "Note: if plots don't show, there is a recent matplotlib issue that may be related:\n",
    "https://github.com/matplotlib/matplotlib/issues/18396"
   ]
  },
  {
   "cell_type": "markdown",
   "metadata": {},
   "source": [
    "\n",
    "# Create and Plot Signals\n",
    "\n",
    "\n",
    "Use soundpy to create and plot signals / noise and add them together at a specific SNR.\n",
    "\n",
    "To see how soundpy implements this, see `soundpy.dsp.generate_sound`, \n",
    "`soundpy.dsp.generate_noise` and `soundpy.dsp.add_backgroundsound`.\n",
    "\n"
   ]
  },
  {
   "cell_type": "code",
   "execution_count": 2,
   "metadata": {},
   "outputs": [],
   "source": [
    "# to be able to import soundpy from parent directory:\n",
    "import os\n",
    "package_dir = '../'\n",
    "os.chdir(package_dir)"
   ]
  },
  {
   "cell_type": "markdown",
   "metadata": {},
   "source": [
    "Let's import soundpy, assuming it is in your working directory:\n",
    "\n"
   ]
  },
  {
   "cell_type": "code",
   "execution_count": 3,
   "metadata": {},
   "outputs": [],
   "source": [
    "import soundpy as sp;"
   ]
  },
  {
   "cell_type": "markdown",
   "metadata": {},
   "source": [
    "# Create a Signal\n"
   ]
  },
  {
   "cell_type": "markdown",
   "metadata": {},
   "source": [
    "First let's set what sample rate we want to use\n",
    "\n"
   ]
  },
  {
   "cell_type": "code",
   "execution_count": 4,
   "metadata": {},
   "outputs": [],
   "source": [
    "sr = 44100"
   ]
  },
  {
   "cell_type": "markdown",
   "metadata": {},
   "source": [
    "## Let's create a signal of 10 Hz \n",
    "\n"
   ]
  },
  {
   "cell_type": "code",
   "execution_count": 5,
   "metadata": {},
   "outputs": [],
   "source": [
    "sig1_hz = 10\n",
    "sig1, sr = sp.generate_sound(freq=sig1_hz, amplitude = 0.4, sr=sr, dur_sec=1)\n",
    "sp.plotsound(sig1, sr=sr, feature_type = 'signal',\n",
    "               title = 'Signal: {} Hz'.format(sig1_hz))"
   ]
  },
  {
   "cell_type": "markdown",
   "metadata": {},
   "source": [
    "## Let's create a signal of 20 Hz\n",
    "\n"
   ]
  },
  {
   "cell_type": "code",
   "execution_count": 6,
   "metadata": {},
   "outputs": [],
   "source": [
    "sig2_hz = 20 \n",
    "sig2, sr = sp.generate_sound(freq=sig2_hz, amplitude= 0.4, sr=sr, dur_sec=1)\n",
    "sp.plotsound(sig2, sr=sr, feature_type = 'signal',\n",
    "               title = 'Signal: {} Hz'.format(sig2_hz))"
   ]
  },
  {
   "cell_type": "markdown",
   "metadata": {},
   "source": [
    "# Combine Signals \n",
    "\n"
   ]
  },
  {
   "cell_type": "markdown",
   "metadata": {},
   "source": [
    "Add them together and see what they look like:\n",
    "\n"
   ]
  },
  {
   "cell_type": "code",
   "execution_count": 7,
   "metadata": {},
   "outputs": [],
   "source": [
    "sig3 = sig1 + sig2\n",
    "sp.plotsound(sig3, sr=sr, feature_type = 'signal', \n",
    "               title='Mixed Signals: {} Hz + {} Hz'.format(sig1_hz, sig2_hz))"
   ]
  },
  {
   "cell_type": "markdown",
   "metadata": {},
   "source": [
    "# Generate Pseudo-Random Noise\n",
    "\n"
   ]
  },
  {
   "cell_type": "markdown",
   "metadata": {},
   "source": [
    "## Create noise to add to the signal:\n",
    "\n"
   ]
  },
  {
   "cell_type": "code",
   "execution_count": 8,
   "metadata": {},
   "outputs": [],
   "source": [
    "noise = sp.generate_noise(len(sig3), amplitude=0.025, random_seed=40)\n",
    "sp.plotsound(noise, sr=sr, feature_type = 'signal', title='Random Noise')"
   ]
  },
  {
   "cell_type": "markdown",
   "metadata": {},
   "source": [
    "# Control SNR: Adding a Background Sound\n",
    "\n"
   ]
  },
  {
   "cell_type": "markdown",
   "metadata": {},
   "source": [
    "## Add noise at signal-to-noise ratio of 40\n",
    "\n"
   ]
  },
  {
   "cell_type": "code",
   "execution_count": 9,
   "metadata": {},
   "outputs": [
    {
     "name": "stderr",
     "output_type": "stream",
     "text": [
      "/home/airos/Projects/github/a-n-rose/Python-Sound-Tool/soundpy/dsp.py:476: UserWarning: \n",
      "No voice activity detected in target signal.\n",
      "  warnings.warn(msg)\n",
      "/home/airos/Projects/github/a-n-rose/Python-Sound-Tool/soundpy/dsp.py:756: UserWarning: \n",
      "Warning: `soundpy.dsp.clip_at_zero` found no samples close to zero. Clipping was not applied.\n",
      "\n",
      "  warnings.warn(msg)\n"
     ]
    }
   ],
   "source": [
    "sig_noisy, snr = sp.dsp.add_backgroundsound(audio_main = sig3, \n",
    "                                         audio_background = noise, \n",
    "                                         sr = sr,\n",
    "                                         snr = 40)\n",
    "\n",
    "# keep energy between 1 and -1 \n",
    "sig_noisy = sp.dsp.scalesound(sig_noisy, max_val=1)\n",
    "sp.plotsound(sig_noisy, sr=sr, feature_type = 'signal', title='Signal + Noise: 40 SNR')"
   ]
  },
  {
   "cell_type": "markdown",
   "metadata": {},
   "source": [
    "## Add noise at signal-to-noise ratio of 20\n",
    "\n"
   ]
  },
  {
   "cell_type": "code",
   "execution_count": 10,
   "metadata": {},
   "outputs": [
    {
     "name": "stderr",
     "output_type": "stream",
     "text": [
      "/home/airos/Projects/github/a-n-rose/Python-Sound-Tool/soundpy/dsp.py:476: UserWarning: \n",
      "No voice activity detected in target signal.\n",
      "  warnings.warn(msg)\n",
      "/home/airos/Projects/github/a-n-rose/Python-Sound-Tool/soundpy/dsp.py:756: UserWarning: \n",
      "Warning: `soundpy.dsp.clip_at_zero` found no samples close to zero. Clipping was not applied.\n",
      "\n",
      "  warnings.warn(msg)\n"
     ]
    }
   ],
   "source": [
    "sig_noisy, snr = sp.dsp.add_backgroundsound(audio_main = sig3, \n",
    "                                         audio_background = noise,\n",
    "                                         sr = sr,\n",
    "                                         snr = 20)\n",
    "# keep energy between 1 and -1 \n",
    "sig_noisy = sp.dsp.scalesound(sig_noisy, max_val=1)\n",
    "sp.plotsound(sig_noisy, sr=sr, feature_type = 'signal', title='Signal + Noise: 20 SNR')"
   ]
  },
  {
   "cell_type": "markdown",
   "metadata": {},
   "source": [
    "## Add noise at signal-to-noise ratio of 10\n",
    "\n"
   ]
  },
  {
   "cell_type": "code",
   "execution_count": 11,
   "metadata": {},
   "outputs": [
    {
     "name": "stderr",
     "output_type": "stream",
     "text": [
      "/home/airos/Projects/github/a-n-rose/Python-Sound-Tool/soundpy/dsp.py:476: UserWarning: \n",
      "No voice activity detected in target signal.\n",
      "  warnings.warn(msg)\n",
      "/home/airos/Projects/github/a-n-rose/Python-Sound-Tool/soundpy/dsp.py:756: UserWarning: \n",
      "Warning: `soundpy.dsp.clip_at_zero` found no samples close to zero. Clipping was not applied.\n",
      "\n",
      "  warnings.warn(msg)\n"
     ]
    }
   ],
   "source": [
    "sig_noisy, snr = sp.dsp.add_backgroundsound(audio_main = sig3, \n",
    "                                         audio_background = noise,\n",
    "                                         sr = sr,\n",
    "                                         snr = 10)\n",
    "# keep energy between 1 and -1 \n",
    "sig_noisy = sp.dsp.scalesound(sig_noisy, max_val=1)\n",
    "sp.plotsound(sig_noisy, sr=sr, feature_type = 'signal', title='Signal + Noise: 10 SNR')"
   ]
  },
  {
   "cell_type": "markdown",
   "metadata": {},
   "source": [
    "## Add noise at signal-to-noise ratio of 0\n",
    "\n"
   ]
  },
  {
   "cell_type": "code",
   "execution_count": 12,
   "metadata": {},
   "outputs": [
    {
     "name": "stderr",
     "output_type": "stream",
     "text": [
      "/home/airos/Projects/github/a-n-rose/Python-Sound-Tool/soundpy/dsp.py:476: UserWarning: \n",
      "No voice activity detected in target signal.\n",
      "  warnings.warn(msg)\n"
     ]
    }
   ],
   "source": [
    "sig_noisy, snr = sp.dsp.add_backgroundsound(audio_main = sig3,\n",
    "                                         audio_background = noise,\n",
    "                                         sr = sr,\n",
    "                                         snr = 0)\n",
    "# keep energy between 1 and -1 \n",
    "sig_noisy = sp.dsp.scalesound(sig_noisy, max_val=1)\n",
    "sp.plotsound(sig_noisy, sr=sr, feature_type = 'signal', title='Signal + Noise: 0 SNR')"
   ]
  },
  {
   "cell_type": "markdown",
   "metadata": {},
   "source": [
    "## Add noise at signal-to-noise ratio of -10\n",
    "\n"
   ]
  },
  {
   "cell_type": "code",
   "execution_count": 13,
   "metadata": {},
   "outputs": [
    {
     "name": "stderr",
     "output_type": "stream",
     "text": [
      "/home/airos/Projects/github/a-n-rose/Python-Sound-Tool/soundpy/dsp.py:476: UserWarning: \n",
      "No voice activity detected in target signal.\n",
      "  warnings.warn(msg)\n"
     ]
    }
   ],
   "source": [
    "sig_noisy, snr = sp.dsp.add_backgroundsound(audio_main = sig3, \n",
    "                                         audio_background = noise,\n",
    "                                         sr = sr,\n",
    "                                         snr = -10)\n",
    "# keep energy between 1 and -1 \n",
    "sig_noisy = sp.dsp.scalesound(sig_noisy, max_val=1)\n",
    "sp.plotsound(sig_noisy, sr=sr, feature_type = 'signal', title='Signal + Noise: -10 SNR')"
   ]
  }
 ],
 "metadata": {
  "kernelspec": {
   "display_name": "Python 3",
   "language": "python",
   "name": "python3"
  },
  "language_info": {
   "codemirror_mode": {
    "name": "ipython",
    "version": 3
   },
   "file_extension": ".py",
   "mimetype": "text/x-python",
   "name": "python",
   "nbconvert_exporter": "python",
   "pygments_lexer": "ipython3",
   "version": "3.8.2"
  }
 },
 "nbformat": 4,
 "nbformat_minor": 1
}
